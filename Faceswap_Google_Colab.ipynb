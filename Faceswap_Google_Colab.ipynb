{
  "nbformat": 4,
  "nbformat_minor": 0,
  "metadata": {
    "accelerator": "GPU",
    "colab": {
      "name": "Faceswap - Google Colab.ipynb",
      "provenance": [],
      "include_colab_link": true
    },
    "kernelspec": {
      "display_name": "Python 3",
      "name": "python3"
    }
  },
  "cells": [
    {
      "cell_type": "markdown",
      "metadata": {
        "id": "view-in-github",
        "colab_type": "text"
      },
      "source": [
        "<a href=\"https://colab.research.google.com/github/YuanchengJin/CP1404/blob/master/Faceswap_Google_Colab.ipynb\" target=\"_parent\"><img src=\"https://colab.research.google.com/assets/colab-badge.svg\" alt=\"Open In Colab\"/></a>"
      ]
    },
    {
      "cell_type": "markdown",
      "metadata": {
        "id": "FihV6led3S0g"
      },
      "source": [
        "# Instructions"
      ]
    },
    {
      "cell_type": "markdown",
      "metadata": {
        "id": "iLDlBRZ83YBn"
      },
      "source": [
        "Faceswap - Google Colab\n",
        "\n",
        "You also need Faceswap GUI for this to work, since you can't extract faces here, yet.\n",
        "\n",
        "Files you need to upload on Google Drive\n",
        "1.   face_a.zip (source face pics you want to swap)\n",
        "2.   face_b.zip (faces you want to get swapped)\n",
        "\n",
        "> Zipped files with extracted faces and alignments.fsa\n",
        "\n",
        "3.   train.ini\n",
        "> Your train.ini from your local system, in Windows this is in: C:\\Users\\YourName\\faceswap\\config\n",
        "\n",
        "Here is what filesystem looks like in Google Drive\n",
        "*   /colab_files/faceswap/faces/face_a.zip\n",
        "*   /colab_files/faceswap/faces/face_b.zip\n",
        "*   /colab_files/faceswap/config/train.ini\n",
        "\n",
        "Recommended folders to create on Google Drive:\n",
        "*   /colab_files/faceswap/models/YourModelName\n",
        "*   /colab_files/faceswap/output/timelapse\n",
        "\n",
        "Here is what filesystem should look like in this Google Colab after the \"Mount Google Drive\" step below.\n",
        "*   /content/drive/My Drive/colab_files/faceswap/faces/face_a.zip\n",
        "*   /content/drive/My Drive/colab_files/faceswap/faces/face_b.zip\n",
        "*   /content/drive/My Drive/colab_files/faceswap/config/train.ini"
      ]
    },
    {
      "cell_type": "markdown",
      "metadata": {
        "id": "X8Me0Og6vM_N"
      },
      "source": [
        "# Usage Notes"
      ]
    },
    {
      "cell_type": "markdown",
      "metadata": {
        "id": "p2aNoS2CvR8m"
      },
      "source": [
        "This is my personal SOP for handling the Faceswap process. I find it is best to tweak your settings, extract, test your training, and convert everything using your local system.\n",
        "\n",
        "But training on my laptop took weeks to get the same results that you can get from just days by using a Google Colab.\n",
        "\n",
        "*   Extract, Align, then Zip all Faces A\n",
        "*   Extract, Align, then Zip all Faces B\n",
        "*   Modify the \"Run Training\" script below to your preferences\n",
        "*   Train in this Colab Notebook\n",
        "*   Watch Google Drive timestamp folder to see how the training is improving\n",
        "*   Download YourModelName to your local system\n",
        "*   Convert using the downloaded model\n"
      ]
    },
    {
      "cell_type": "markdown",
      "metadata": {
        "id": "5nw9Lc-sGQvZ"
      },
      "source": [
        "# Keep Session Alive\n",
        " (it may not work due to latest Google Colab Captcha changes.)\n",
        "\n"
      ]
    },
    {
      "cell_type": "code",
      "metadata": {
        "colab": {
          "base_uri": "https://localhost:8080/",
          "height": 35
        },
        "id": "1w3gNJgtBw5F",
        "outputId": "6f441907-ff0f-4e04-f4c9-01006c6d727f"
      },
      "source": [
        "import IPython\n",
        "from google.colab import output\n",
        "\n",
        "display(IPython.display.Javascript('''\n",
        " function ClickConnect(){\n",
        "   btn = document.querySelector(\"colab-connect-button\")\n",
        "   if (btn != null){\n",
        "     console.log(\"Click colab-connect-button\");\n",
        "     btn.click()\n",
        "     }\n",
        "\n",
        "   btn = document.getElementById('ok')\n",
        "   if (btn != null){\n",
        "     console.log(\"Click reconnect\");\n",
        "     btn.click()\n",
        "     }\n",
        "  }\n",
        "\n",
        "setInterval(ClickConnect,60000)\n",
        "'''))\n",
        "\n",
        "print(\"Done.\")"
      ],
      "execution_count": 1,
      "outputs": [
        {
          "output_type": "display_data",
          "data": {
            "text/plain": [
              "<IPython.core.display.Javascript object>"
            ],
            "application/javascript": [
              "\n",
              " function ClickConnect(){\n",
              "   btn = document.querySelector(\"colab-connect-button\")\n",
              "   if (btn != null){\n",
              "     console.log(\"Click colab-connect-button\"); \n",
              "     btn.click() \n",
              "     }\n",
              "   \n",
              "   btn = document.getElementById('ok')\n",
              "   if (btn != null){\n",
              "     console.log(\"Click reconnect\"); \n",
              "     btn.click() \n",
              "     }\n",
              "  }\n",
              "  \n",
              "setInterval(ClickConnect,60000)\n"
            ]
          },
          "metadata": {}
        },
        {
          "output_type": "stream",
          "name": "stdout",
          "text": [
            "Done.\n"
          ]
        }
      ]
    },
    {
      "cell_type": "markdown",
      "metadata": {
        "id": "c0-VFf7-GYIt"
      },
      "source": [
        "# Check your GPU\n",
        "If it isn't **Tesla T4** or **Tesla P100**, go Runtime->Factory Reset Runtime until you get one."
      ]
    },
    {
      "cell_type": "code",
      "metadata": {
        "id": "A1F6HO7TJKyj",
        "outputId": "d8adccc1-a498-45d9-f852-c622a69a4417",
        "colab": {
          "base_uri": "https://localhost:8080/"
        }
      },
      "source": [
        "!nvidia-smi\n",
        "\n",
        "import tensorflow as tf\n",
        "print(\"Tensorflow version: \" + tf.__version__)"
      ],
      "execution_count": 2,
      "outputs": [
        {
          "output_type": "stream",
          "name": "stdout",
          "text": [
            "Sun Jun 29 09:09:56 2025       \n",
            "+-----------------------------------------------------------------------------------------+\n",
            "| NVIDIA-SMI 550.54.15              Driver Version: 550.54.15      CUDA Version: 12.4     |\n",
            "|-----------------------------------------+------------------------+----------------------+\n",
            "| GPU  Name                 Persistence-M | Bus-Id          Disp.A | Volatile Uncorr. ECC |\n",
            "| Fan  Temp   Perf          Pwr:Usage/Cap |           Memory-Usage | GPU-Util  Compute M. |\n",
            "|                                         |                        |               MIG M. |\n",
            "|=========================================+========================+======================|\n",
            "|   0  Tesla T4                       Off |   00000000:00:04.0 Off |                    0 |\n",
            "| N/A   51C    P8             10W /   70W |       0MiB /  15360MiB |      0%      Default |\n",
            "|                                         |                        |                  N/A |\n",
            "+-----------------------------------------+------------------------+----------------------+\n",
            "                                                                                         \n",
            "+-----------------------------------------------------------------------------------------+\n",
            "| Processes:                                                                              |\n",
            "|  GPU   GI   CI        PID   Type   Process name                              GPU Memory |\n",
            "|        ID   ID                                                               Usage      |\n",
            "|=========================================================================================|\n",
            "|  No running processes found                                                             |\n",
            "+-----------------------------------------------------------------------------------------+\n",
            "Tensorflow version: 2.18.0\n"
          ]
        }
      ]
    },
    {
      "cell_type": "markdown",
      "metadata": {
        "id": "e1yNPAbSSKdK"
      },
      "source": [
        "# Setup Faceswap"
      ]
    },
    {
      "cell_type": "code",
      "metadata": {
        "id": "nZ0sa6XRJ-33",
        "colab": {
          "base_uri": "https://localhost:8080/"
        },
        "outputId": "68aee9f8-17d0-4c84-e4c7-760c46d5a996"
      },
      "source": [
        "#@title Set Time Zone\n",
        "!rm /etc/localtime\n",
        "!ln -s /usr/share/zoneinfo/Turkey /etc/localtime\n",
        "!date\n",
        "\n",
        "#above is for HST, you can find yours in\n",
        "#/usr/share/zoneinfo\n"
      ],
      "execution_count": 3,
      "outputs": [
        {
          "output_type": "stream",
          "name": "stdout",
          "text": [
            "Sun Jun 29 12:10:03 PM +03 2025\n"
          ]
        }
      ]
    },
    {
      "cell_type": "code",
      "metadata": {
        "id": "BuNRgHGRSP59",
        "colab": {
          "base_uri": "https://localhost:8080/"
        },
        "outputId": "3932e137-2e69-4a41-922e-33f0d8c1d585"
      },
      "source": [
        "#@title Mount Google Drive\n",
        "\n",
        "from google.colab import drive\n",
        "drive.mount('/content/drive', force_remount=True)"
      ],
      "execution_count": 5,
      "outputs": [
        {
          "output_type": "stream",
          "name": "stdout",
          "text": [
            "Mounted at /content/drive\n"
          ]
        }
      ]
    },
    {
      "cell_type": "code",
      "metadata": {
        "id": "NGs28NN6VuSD",
        "outputId": "14fd0ddd-a063-4b09-c5a4-2019ba7b79bd",
        "colab": {
          "base_uri": "https://localhost:8080/"
        }
      },
      "source": [
        "#@title Get your training data(aka the faces you extracted in app)\n",
        "!cp \"/content/drive/My Drive/colab_files/faceswap/faces/face_a.zip\" .\n",
        "!cp \"/content/drive/My Drive/colab_files/faceswap/faces/face_b.zip\" .\n",
        "\n",
        "!unzip face_a.zip -d face_a\n",
        "!unzip face_b.zip -d face_b\n",
        "\n",
        "!rm face_a.zip\n",
        "!rm face_b.zip\n"
      ],
      "execution_count": 7,
      "outputs": [
        {
          "output_type": "stream",
          "name": "stdout",
          "text": [
            "cp: cannot stat '/content/drive/My Drive/colab_files/faceswap/faces/face_a.zip': No such file or directory\n",
            "cp: cannot stat '/content/drive/My Drive/colab_files/faceswap/faces/face_b.zip': No such file or directory\n",
            "unzip:  cannot find or open face_a.zip, face_a.zip.zip or face_a.zip.ZIP.\n",
            "unzip:  cannot find or open face_b.zip, face_b.zip.zip or face_b.zip.ZIP.\n",
            "rm: cannot remove 'face_a.zip': No such file or directory\n",
            "rm: cannot remove 'face_b.zip': No such file or directory\n"
          ]
        }
      ]
    },
    {
      "cell_type": "code",
      "metadata": {
        "id": "NUHDDCPCcDKW",
        "outputId": "ad708806-f1ca-430f-b360-f36965a4d528",
        "colab": {
          "base_uri": "https://localhost:8080/"
        }
      },
      "source": [
        "#@title Get the latest Faceswap\n",
        "!git clone https://github.com/deepfakes/faceswap.git"
      ],
      "execution_count": 8,
      "outputs": [
        {
          "output_type": "stream",
          "name": "stdout",
          "text": [
            "Cloning into 'faceswap'...\n",
            "remote: Enumerating objects: 14694, done.\u001b[K\n",
            "remote: Counting objects:   2% (1/37)\u001b[K\rremote: Counting objects:   5% (2/37)\u001b[K\rremote: Counting objects:   8% (3/37)\u001b[K\rremote: Counting objects:  10% (4/37)\u001b[K\rremote: Counting objects:  13% (5/37)\u001b[K\rremote: Counting objects:  16% (6/37)\u001b[K\rremote: Counting objects:  18% (7/37)\u001b[K\rremote: Counting objects:  21% (8/37)\u001b[K\rremote: Counting objects:  24% (9/37)\u001b[K\rremote: Counting objects:  27% (10/37)\u001b[K\rremote: Counting objects:  29% (11/37)\u001b[K\rremote: Counting objects:  32% (12/37)\u001b[K\rremote: Counting objects:  35% (13/37)\u001b[K\rremote: Counting objects:  37% (14/37)\u001b[K\rremote: Counting objects:  40% (15/37)\u001b[K\rremote: Counting objects:  43% (16/37)\u001b[K\rremote: Counting objects:  45% (17/37)\u001b[K\rremote: Counting objects:  48% (18/37)\u001b[K\rremote: Counting objects:  51% (19/37)\u001b[K\rremote: Counting objects:  54% (20/37)\u001b[K\rremote: Counting objects:  56% (21/37)\u001b[K\rremote: Counting objects:  59% (22/37)\u001b[K\rremote: Counting objects:  62% (23/37)\u001b[K\rremote: Counting objects:  64% (24/37)\u001b[K\rremote: Counting objects:  67% (25/37)\u001b[K\rremote: Counting objects:  70% (26/37)\u001b[K\rremote: Counting objects:  72% (27/37)\u001b[K\rremote: Counting objects:  75% (28/37)\u001b[K\rremote: Counting objects:  78% (29/37)\u001b[K\rremote: Counting objects:  81% (30/37)\u001b[K\rremote: Counting objects:  83% (31/37)\u001b[K\rremote: Counting objects:  86% (32/37)\u001b[K\rremote: Counting objects:  89% (33/37)\u001b[K\rremote: Counting objects:  91% (34/37)\u001b[K\rremote: Counting objects:  94% (35/37)\u001b[K\rremote: Counting objects:  97% (36/37)\u001b[K\rremote: Counting objects: 100% (37/37)\u001b[K\rremote: Counting objects: 100% (37/37), done.\u001b[K\n",
            "remote: Compressing objects: 100% (18/18), done.\u001b[K\n",
            "remote: Total 14694 (delta 23), reused 19 (delta 19), pack-reused 14657 (from 3)\u001b[K\n",
            "Receiving objects: 100% (14694/14694), 198.72 MiB | 33.97 MiB/s, done.\n",
            "Resolving deltas: 100% (10485/10485), done.\n"
          ]
        }
      ]
    },
    {
      "cell_type": "code",
      "metadata": {
        "id": "HP9m733KiKG6",
        "outputId": "59cc0370-f84a-41c3-8ca4-f81535e3c464",
        "colab": {
          "base_uri": "https://localhost:8080/"
        }
      },
      "source": [
        "#@title Copy your configuration(train.ini) file\n",
        "!cp \"/content/drive/My Drive/colab_files/faceswap/config/train.ini\" faceswap/config/\n",
        "!ls -lA faceswap/config/\n",
        "!cat faceswap/config/train.ini"
      ],
      "execution_count": 9,
      "outputs": [
        {
          "output_type": "stream",
          "name": "stdout",
          "text": [
            "cp: cannot stat '/content/drive/My Drive/colab_files/faceswap/config/train.ini': No such file or directory\n",
            "total 0\n",
            "-rw-r--r-- 1 root root 0 Jun 29 12:11 .keep\n",
            "cat: faceswap/config/train.ini: No such file or directory\n"
          ]
        }
      ]
    },
    {
      "cell_type": "code",
      "metadata": {
        "id": "VDzky8jnfDzE",
        "outputId": "28c5a230-8559-4c1c-c4fd-2ead972b5278",
        "colab": {
          "base_uri": "https://localhost:8080/"
        }
      },
      "source": [
        "#@title Install Tensorflow\n",
        "\n",
        "!pip install -r faceswap/requirements/requirements_nvidia.txt"
      ],
      "execution_count": 11,
      "outputs": [
        {
          "output_type": "stream",
          "name": "stdout",
          "text": [
            "Ignoring pywin32: markers 'sys_platform == \"win32\"' don't match your environment\n",
            "Ignoring pynvx: markers 'sys_platform == \"darwin\"' don't match your environment\n",
            "Requirement already satisfied: tqdm>=4.65 in /usr/local/lib/python3.11/dist-packages (from -r faceswap/requirements/_requirements_base.txt (line 1)) (4.67.1)\n",
            "Requirement already satisfied: psutil>=5.9.0 in /usr/local/lib/python3.11/dist-packages (from -r faceswap/requirements/_requirements_base.txt (line 2)) (5.9.5)\n",
            "Requirement already satisfied: numexpr>=2.8.7 in /usr/local/lib/python3.11/dist-packages (from -r faceswap/requirements/_requirements_base.txt (line 3)) (2.11.0)\n",
            "Collecting numpy<2.0.0,>=1.26.0 (from -r faceswap/requirements/_requirements_base.txt (line 4))\n",
            "  Downloading numpy-1.26.4-cp311-cp311-manylinux_2_17_x86_64.manylinux2014_x86_64.whl.metadata (61 kB)\n",
            "\u001b[2K     \u001b[90m━━━━━━━━━━━━━━━━━━━━━━━━━━━━━━━━━━━━━━━━\u001b[0m \u001b[32m61.0/61.0 kB\u001b[0m \u001b[31m2.4 MB/s\u001b[0m eta \u001b[36m0:00:00\u001b[0m\n",
            "\u001b[?25hRequirement already satisfied: opencv-python>=4.9.0.0 in /usr/local/lib/python3.11/dist-packages (from -r faceswap/requirements/_requirements_base.txt (line 5)) (4.11.0.86)\n",
            "Collecting pillow<10.0.0,>=9.4.0 (from -r faceswap/requirements/_requirements_base.txt (line 6))\n",
            "  Downloading Pillow-9.5.0-cp311-cp311-manylinux_2_28_x86_64.whl.metadata (9.5 kB)\n",
            "Requirement already satisfied: scikit-learn>=1.3.0 in /usr/local/lib/python3.11/dist-packages (from -r faceswap/requirements/_requirements_base.txt (line 7)) (1.6.1)\n",
            "Collecting fastcluster>=1.2.6 (from -r faceswap/requirements/_requirements_base.txt (line 8))\n",
            "  Downloading fastcluster-1.3.0-cp311-cp311-manylinux_2_5_x86_64.manylinux1_x86_64.manylinux_2_17_x86_64.manylinux2014_x86_64.whl.metadata (4.7 kB)\n",
            "Requirement already satisfied: matplotlib>=3.8.0 in /usr/local/lib/python3.11/dist-packages (from -r faceswap/requirements/_requirements_base.txt (line 9)) (3.10.0)\n",
            "Requirement already satisfied: imageio>=2.33.1 in /usr/local/lib/python3.11/dist-packages (from -r faceswap/requirements/_requirements_base.txt (line 10)) (2.37.0)\n",
            "Collecting imageio-ffmpeg<0.6.0,>=0.4.9 (from -r faceswap/requirements/_requirements_base.txt (line 13))\n",
            "  Downloading imageio_ffmpeg-0.5.1-py3-none-manylinux2010_x86_64.whl.metadata (1.6 kB)\n",
            "Requirement already satisfied: ffmpy>=0.3.0 in /usr/local/lib/python3.11/dist-packages (from -r faceswap/requirements/_requirements_base.txt (line 14)) (0.6.0)\n",
            "Requirement already satisfied: nvidia-ml-py<300,>=12.535 in /usr/local/lib/python3.11/dist-packages (from -r faceswap/requirements/requirements_nvidia.txt (line 3)) (12.575.51)\n",
            "\u001b[31mERROR: Ignored the following versions that require a different python version: 1.21.2 Requires-Python >=3.7,<3.11; 1.21.3 Requires-Python >=3.7,<3.11; 1.21.4 Requires-Python >=3.7,<3.11; 1.21.5 Requires-Python >=3.7,<3.11; 1.21.6 Requires-Python >=3.7,<3.11\u001b[0m\u001b[31m\n",
            "\u001b[0m\u001b[31mERROR: Could not find a version that satisfies the requirement tensorflow<2.11.0,>=2.10.0 (from versions: 2.12.0rc0, 2.12.0rc1, 2.12.0, 2.12.1, 2.13.0rc0, 2.13.0rc1, 2.13.0rc2, 2.13.0, 2.13.1, 2.14.0rc0, 2.14.0rc1, 2.14.0, 2.14.1, 2.15.0rc0, 2.15.0rc1, 2.15.0, 2.15.0.post1, 2.15.1, 2.16.0rc0, 2.16.1, 2.16.2, 2.17.0rc0, 2.17.0rc1, 2.17.0, 2.17.1, 2.18.0rc0, 2.18.0rc1, 2.18.0rc2, 2.18.0, 2.18.1, 2.19.0rc0, 2.19.0)\u001b[0m\u001b[31m\n",
            "\u001b[0m\u001b[31mERROR: No matching distribution found for tensorflow<2.11.0,>=2.10.0\u001b[0m\u001b[31m\n",
            "\u001b[0m"
          ]
        }
      ]
    },
    {
      "cell_type": "code",
      "metadata": {
        "id": "npA9qG2JnBSH",
        "outputId": "56a125c8-4fee-4575-a538-714de5d006ab",
        "colab": {
          "base_uri": "https://localhost:8080/"
        }
      },
      "source": [
        "!python3 faceswap/tools.py mask -a 'face_b/alignments.fsa' -i 'face_b' -it faces -M vgg-clear -p all -o '/drive/MyDrive/colab_files/faceswap/faces/facexb/mask' -b 3 -t 4 -ot mask -L INFO\n"
      ],
      "execution_count": 12,
      "outputs": [
        {
          "output_type": "stream",
          "name": "stdout",
          "text": [
            "First time configuration. Please select the required backend\n",
            "1: CPU, 2: DIRECTML, 3: NVIDIA, 4: APPLE SILICON, 5: ROCM: 3\n",
            "Faceswap config written to: /content/faceswap/config/.faceswap\n",
            "Setting Faceswap backend to NVIDIA\n",
            "usage: tools.py [-h] {alignments,effmpeg,manual,mask,model,preview,sort} ...\n",
            "\n",
            "positional arguments:\n",
            "  {alignments,effmpeg,manual,mask,model,preview,sort}\n",
            "    alignments          This command lets you perform various tasks pertaining\n",
            "                        to an alignments file.\n",
            "    effmpeg             This command allows you to easily execute common\n",
            "                        ffmpeg tasks.\n",
            "    manual              This command lets you perform various actions on\n",
            "                        frames, faces and alignments files using visual tools.\n",
            "    mask                This tool allows you to generate, import, export or\n",
            "                        preview masks for existing alignments.\n",
            "    model               This tool lets you perform actions on saved Faceswap\n",
            "                        models.\n",
            "    preview             This command allows you to preview swaps to tweak\n",
            "                        convert settings.\n",
            "    sort                This command lets you sort images using various\n",
            "                        methods.\n",
            "\n",
            "options:\n",
            "  -h, --help            show this help message and exit\n",
            "tools.py: error: unrecognized arguments: mask\n"
          ]
        }
      ]
    },
    {
      "cell_type": "markdown",
      "metadata": {
        "id": "9IvtNv6w3KGX"
      },
      "source": [
        "# Run Training\n",
        "Iteration number is up to you but it's recommended that you should do until the number you are okay with. You should check your timelapse folder for that.\n",
        "\n",
        "And if my calculations are right, trainer is doing nearly 360 iterations in 10 mins, which means 2160 iterations in 1 hr."
      ]
    },
    {
      "cell_type": "code",
      "metadata": {
        "id": "kAj-tLiJgUTM",
        "outputId": "e9a254bd-4588-4ec1-a2ad-5cee6a3e4225",
        "colab": {
          "base_uri": "https://localhost:8080/"
        }
      },
      "source": [
        "#set variables start\n",
        "num_iterations = \"100000\"\n",
        "save_every = \"360\"\n",
        "save_model_every = \"25000\"\n",
        "batch_num = \"16\"\n",
        "num_gpus = \"1\"\n",
        "\n",
        "trainer_type = \"villain\"\n",
        "\n",
        "model_dir = \"/content/drive/My Drive/colab_files/faceswap/models/YourModelName\"\n",
        "alignments_file_a = \"face_a/2_alignments.fsa\"\n",
        "alignments_file_b = \"face_b/alignments.fsa\"\n",
        "timelapse_dir = \"/content/drive/My Drive/colab_files/faceswap/output/timelapse\"\n",
        "#set variables end\n",
        "\n",
        "!python3 faceswap/faceswap.py train \\\n",
        "  -A 'face_a' \\\n",
        "  -B 'face_b'  \\\n",
        "  -m '{model_dir}' \\\n",
        "  -t '{trainer_type}' \\\n",
        "  -bs '{batch_num}' \\\n",
        "  -it '{num_iterations}' \\\n",
        "  -s '{save_every}' \\\n",
        "  -ss '{save_model_every}' \\\n",
        "  -tia 'face_a' \\\n",
        "  -tib 'face_b' \\\n",
        "  -to '{timelapse_dir}'\n"
      ],
      "execution_count": 13,
      "outputs": [
        {
          "output_type": "stream",
          "name": "stdout",
          "text": [
            "Setting Faceswap backend to NVIDIA\n",
            "06/29/2025 12:12:39 INFO     Log level set to: INFO\n",
            "WARNING: All log messages before absl::InitializeLog() is called are written to STDERR\n",
            "E0000 00:00:1751188359.486154    1650 cuda_dnn.cc:8310] Unable to register cuDNN factory: Attempting to register factory for plugin cuDNN when one has already been registered\n",
            "E0000 00:00:1751188359.491978    1650 cuda_blas.cc:1418] Unable to register cuBLAS factory: Attempting to register factory for plugin cuBLAS when one has already been registered\n",
            "DEBUG:2025-06-29 12:12:41,160:jax._src.path:31: etils.epath found. Using etils.epath for file I/O.\n",
            "06/29/2025 12:12:43 ERROR    The maximum supported Tensorflow is version (2, 10) but you have version (2, 18) installed. Please downgrade Tensorflow.\n"
          ]
        }
      ]
    },
    {
      "cell_type": "markdown",
      "metadata": {
        "id": "1zeZ9ShYFw3K"
      },
      "source": [
        "# Convert"
      ]
    },
    {
      "cell_type": "code",
      "metadata": {
        "id": "vkHZf2BN86go",
        "outputId": "1027d13f-011a-4776-96e2-ead689d82ba2",
        "colab": {
          "base_uri": "https://localhost:8080/"
        }
      },
      "source": [
        "!python3 faceswap/faceswap.py convert -i '/content/drive/My Drive/colab_files/faceswap/Editor.avi' -o '/content/drive/My Drive/colab_files/faceswap/Results' -al '/content/drive/My Drive/colab_files/faceswap/2_alignments.fsa' -m '/content/drive/My Drive/colab_files/faceswap/models/YourModelName' -c match-hist -M none -w ffmpeg -osc 100 -l 0.4 -j 0 -t realface -L INFO"
      ],
      "execution_count": 14,
      "outputs": [
        {
          "output_type": "stream",
          "name": "stdout",
          "text": [
            "Setting Faceswap backend to NVIDIA\n",
            "usage: faceswap.py [-h] {extract,train,convert,gui} ...\n",
            "\n",
            "positional arguments:\n",
            "  {extract,train,convert,gui}\n",
            "    extract             Extract the faces from pictures or a video\n",
            "    train               Train a model for the two faces A and B\n",
            "    convert             Convert source pictures or video to a new one with the\n",
            "                        face swapped\n",
            "    gui                 Launch the Faceswap Graphical User Interface\n",
            "\n",
            "options:\n",
            "  -h, --help            show this help message and exit\n",
            "faceswap.py: error: unrecognized arguments: -t realface\n"
          ]
        }
      ]
    },
    {
      "cell_type": "code",
      "source": [],
      "metadata": {
        "id": "54bXqNsQ9ge0"
      },
      "execution_count": null,
      "outputs": []
    }
  ]
}